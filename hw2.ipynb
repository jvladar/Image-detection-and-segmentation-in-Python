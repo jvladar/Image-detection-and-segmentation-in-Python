{
 "cells": [
  {
   "cell_type": "markdown",
   "id": "f0d80532-7589-466b-8315-7243b788a264",
   "metadata": {
    "tags": []
   },
   "source": [
    "# Computer Vision - Autumn 2021 - Home Assignment 2\n",
    "\n",
    "**Ondřej Schejbal & Jan Vladár**\n",
    "\n",
    "We were assigned to deal with image detection and segmentation with the aim try different approaches in detection of selected sea plants.\n",
    "\n",
    "For our project we decided to work with these 2 plant species:\n",
    "* <a href=\"https://en.wikipedia.org/wiki/Zostera\">Zostera</a>\n",
    "* <a href=\"https://en.wikipedia.org/wiki/Zostera\">Mytilus</a>"
   ]
  },
  {
   "cell_type": "code",
   "execution_count": 15,
   "id": "19787c28-0338-46ec-be03-2407c0342404",
   "metadata": {},
   "outputs": [],
   "source": [
    "import os\n",
    "from PIL import Image\n",
    "import cv2\n",
    "# import numpy as np\n",
    "import matplotlib.pyplot as plt\n",
    "\n",
    "class1FolderName = './Mytilus_original'\n",
    "class2FolderName = './Zostera_original'"
   ]
  },
  {
   "cell_type": "code",
   "execution_count": 16,
   "id": "f2e6ce7e-3a0c-44f8-963a-b8e80b326c28",
   "metadata": {},
   "outputs": [],
   "source": [
    "# make the output images larger\n",
    "plt.rcParams['figure.dpi'] = 120\n",
    "plt.rcParams['savefig.dpi'] = 300"
   ]
  },
  {
   "cell_type": "code",
   "execution_count": 17,
   "id": "8372b775-9ef3-4d77-917a-fb2aa10961ad",
   "metadata": {},
   "outputs": [],
   "source": [
    "def getFolderNameAndEtalonFolderName(classFolderName, print_it=False):\n",
    "    folderName = classFolderName[:-9]\n",
    "    etalonFolderName = folderName + 'Etalons'\n",
    "    if print_it:\n",
    "        print('Folder name:', folderName, '\\r\\nEtalon folder name:', etalonFolderName)\n",
    "    return folderName, etalonFolderName"
   ]
  },
  {
   "cell_type": "markdown",
   "id": "4b0896e4-e6a6-403f-bf2c-4a45a1eda3c6",
   "metadata": {
    "tags": []
   },
   "source": [
    "## Task 1\n",
    "*Collect a set of images suitable for the tasks below of at least 3 species. Write code to preprocess the \n",
    "images of plants into a uniform size of your choice, e.g. 1024x1024 pixels.*"
   ]
  },
  {
   "cell_type": "markdown",
   "id": "eaddf4cd",
   "metadata": {},
   "source": [
    "We have searched for relevant Zostera and Mytilus images on the web, but most of the pictures contained either watermark, or some additional text. Because of that we were left with only limited number of images for our task. This can have significant effect especially on the deep neural network solution described in [part 4](#part_4) and that's why we decided to use data agmentation for that part of our assignment.\n",
    "\n",
    "In the code below we are transforming the images into recommended dimensions 1024x1024 and also converting them to the same format."
   ]
  },
  {
   "cell_type": "code",
   "execution_count": 18,
   "id": "ed9029bc-087d-4975-b540-d8f85ee19482",
   "metadata": {},
   "outputs": [],
   "source": [
    "def transformImagesInDirectoryToInitialState(folderName):\n",
    "    list_of_files = os.listdir(folderName)\n",
    "    targetFolderName = folderName[:-9]\n",
    "    for idx, file in enumerate(list_of_files):\n",
    "        image_file_name = os.path.join(folderName, file)\n",
    "        img = Image.open(image_file_name)  # .convert(\"L\")\n",
    "        img = img.resize((1024, 1024))\n",
    "        if not os.path.exists(targetFolderName):\n",
    "            os.mkdir(targetFolderName)\n",
    "        img.save(targetFolderName + '/' + str(idx) + \".png\")\n",
    "        # os.remove(image_file_name)"
   ]
  },
  {
   "cell_type": "code",
   "execution_count": 19,
   "id": "4ec1af1a-5d0b-4820-9e4f-34a9fc67682e",
   "metadata": {},
   "outputs": [],
   "source": [
    "def task1():\n",
    "    transformImagesInDirectoryToInitialState(class1FolderName)\n",
    "    transformImagesInDirectoryToInitialState(class2FolderName)\n",
    "# task1()"
   ]
  },
  {
   "cell_type": "markdown",
   "id": "f545741c-f4dc-4ec5-9d04-38a6a9babf67",
   "metadata": {
    "tags": []
   },
   "source": [
    "## Task 2\n",
    "*Select a set of etalons (e.g. small images containing a sample of some distinctive features) from the \n",
    "an image to be used for matching similar objects. Aim for a set that would be representative on at \n",
    "least 50% of the images of the particular species. Think how to deal with rotations.*"
   ]
  },
  {
   "cell_type": "markdown",
   "id": "259e74f6",
   "metadata": {},
   "source": [
    "In this task we have manually created 9 etalons for each selected sea plant. We have always tried to select as small etalon as possible, which still contains one representative of given plant.\n",
    "\n",
    "For Mytilus this was quite simple, but for Zostera it was not. Zostera is basically a sea grass and selecting only one grass stalk was sometimes very difficult. We have also decided to make Zostera etalons always from different part of the grass stalk - from the top, middle of the stalk and bottom.\n",
    "\n",
    "When selecting the etalons our goal was to have a selection of small pieces from our images, which would have representative characteristic of respective plant species.\n",
    "\n",
    "The goal was then to try match our etalons to the whole image sets and observe the results.\n",
    "\n",
    "**TODO popsat, co jsme pouzili**\n",
    "\n",
    "**TODO poznamka s rotacemi**"
   ]
  },
  {
   "cell_type": "markdown",
   "id": "288b824b",
   "metadata": {},
   "source": [
    "**Resolution**: We were able to achieve xx % of accuracy for Zostera and yy % accuracy for Mytilus.\n",
    "\n",
    "We have also experimented with etalons. We observed that modifying the size significantly affects the accuracy. When the etalons were much bigger, the accuracy became significantly lower."
   ]
  },
  {
   "cell_type": "code",
   "execution_count": 20,
   "id": "23c87ccb-d97b-41e6-8d58-3d51717f94a4",
   "metadata": {},
   "outputs": [],
   "source": [
    "def match_image(img, template):\n",
    "    w, h = template.shape[::-1]\n",
    "    match_method = cv2.TM_CCOEFF_NORMED\n",
    "    res = cv2.matchTemplate(img, template, match_method)\n",
    "    _, maxval, _, maxloc = cv2.minMaxLoc(res)\n",
    "    btm_right = (maxloc[0] + w, maxloc[1] + h)\n",
    "    cv2.rectangle(img, maxloc, btm_right, 255, 2)\n",
    "    return maxval"
   ]
  },
  {
   "cell_type": "code",
   "execution_count": 25,
   "id": "c56360a9-ae76-4863-a110-bf483163508d",
   "metadata": {},
   "outputs": [],
   "source": [
    "def congo(etalons, images, my_input, my):\n",
    "    for et in os.listdir(etalons):\n",
    "        e_img = etalons + \"/\" + et\n",
    "        # print(\"etalon:\", e_img)\n",
    "        img_teplate = cv2.imread(e_img, 0) \n",
    "        my_input = []\n",
    "        for image in os.listdir(images):\n",
    "            f_img = images + \"/\" + image\n",
    "            # print(\"\\t img\", f_img)\n",
    "            img = cv2.imread(f_img, 0)\n",
    "            result = match_image(img, img_teplate)\n",
    "            my_input.append(result)\n",
    "        my.append(my_input)\n",
    "\n",
    "    averages = []\n",
    "    for i in my :\n",
    "        avg = 0\n",
    "        for o in i:\n",
    "            avg = avg + o\n",
    "        averages.append(avg/(len(my[0])))\n",
    "    print(\"Precision:\", sum(averages)/len(averages))\n",
    "    return averages"
   ]
  },
  {
   "cell_type": "code",
   "execution_count": 26,
   "id": "a3e28264-0ddd-4849-a64e-b3e03a72889f",
   "metadata": {},
   "outputs": [
    {
     "name": "stdout",
     "output_type": "stream",
     "text": [
      "Mytilus\n",
      "Precision: 0.5466716232208105\n",
      "Zostera\n",
      "Precision: 0.5979978708284241\n"
     ]
    }
   ],
   "source": [
    "def task2(classFolderName):\n",
    "    my_input = []\n",
    "    my = []\n",
    "    folderName, etalonFolderName = getFolderNameAndEtalonFolderName(classFolderName)\n",
    "    pele = congo(etalonFolderName, folderName, my_input, my)\n",
    "    # print(\"Averages....\", pele)\n",
    "\n",
    "print(\"Mytilus\")\n",
    "task2(class1FolderName)\n",
    "\n",
    "print(\"Zostera\")\n",
    "task2(class2FolderName)"
   ]
  },
  {
   "cell_type": "markdown",
   "id": "6544597b-1735-4336-8095-10fc3638575e",
   "metadata": {},
   "source": [
    "## Task 3\n",
    "Use at least 3 different existing conventional feature detectors provided by \n",
    "OpenCV to find matches of the etalons in the image. NB! Take into account overlaps and subtract the \n",
    "appropriate numbers from total scores.\n",
    "\n",
    "Evaluate on two different images (called task3a.tiff and task3b.tiff) how well the approach works and \n",
    "which feature detector performs best."
   ]
  },
  {
   "cell_type": "markdown",
   "id": "4d0f4d59-b4f1-4453-b6ff-c2840a783a59",
   "metadata": {
    "tags": []
   },
   "source": [
    "### Feature detection in an image\n",
    "#### todo resolve final version of task 3"
   ]
  },
  {
   "cell_type": "markdown",
   "id": "cc9428c2-1a52-4c04-9aaf-a22a1d6c90b6",
   "metadata": {
    "tags": []
   },
   "source": [
    "### Feature matching"
   ]
  },
  {
   "cell_type": "code",
   "execution_count": 8,
   "id": "5e016702-dbe0-4b46-81fd-5a10f92014d1",
   "metadata": {},
   "outputs": [],
   "source": [
    "# img1 = img\n",
    "# img2 = cv2.imread(etalonFolderName + '/0.png', cv2.IMREAD_GRAYSCALE)"
   ]
  },
  {
   "cell_type": "markdown",
   "id": "20def745-7a91-4523-afa9-20771d56837f",
   "metadata": {},
   "source": [
    "#### BruteForce"
   ]
  },
  {
   "cell_type": "markdown",
   "id": "400c1603-624a-4162-8c12-26c37c832bad",
   "metadata": {},
   "source": [
    "#### SIFT"
   ]
  },
  {
   "cell_type": "markdown",
   "id": "290a541c-9052-4fdc-baca-1ce5da61cc5e",
   "metadata": {},
   "source": [
    "## Task 4<a id='part_4'></a>\n",
    "*Improve the baseline by applying deep learning.*\n",
    "\n",
    "**TODO REMOVE THE REST**\n",
    "\n",
    "\n",
    "Key words: OpenCV 4, OpenVINO, ONNX, \n",
    "Tensorflow, PyTorch. The result needs to be documented, i.e. you should present quantitative results \n",
    "in a report where you show if and how much the deep learning approach improved your baseline. \n",
    "\n",
    "Make sure to use appropriate criteria for the measurement!\n",
    "\n",
    "NB! Aim at using a pretrained network as a basis and apply the concept of transfer learning to adjust \n",
    "the net for your task.\n",
    "\n",
    "NB! The work needs to be documented, i.e. you need to include a report where you have \n",
    "quantitative results of your baseline and improvement in addition to the description of the approach \n",
    "taken.\n",
    "\n",
    "To store images in the Git repository you should use Git LFS support.\n",
    "You may use the AI-Lab environment for GPU accelerated computations.*\n",
    "\n",
    "\n",
    "**Helpful hints:**\n",
    "\n",
    "Labling tool: CVAT"
   ]
  }
 ],
 "metadata": {
  "kernelspec": {
   "display_name": "Python 3 (ipykernel)",
   "language": "python",
   "name": "python3"
  },
  "language_info": {
   "codemirror_mode": {
    "name": "ipython",
    "version": 3
   },
   "file_extension": ".py",
   "mimetype": "text/x-python",
   "name": "python",
   "nbconvert_exporter": "python",
   "pygments_lexer": "ipython3",
   "version": "3.8.10"
  }
 },
 "nbformat": 4,
 "nbformat_minor": 5
}
